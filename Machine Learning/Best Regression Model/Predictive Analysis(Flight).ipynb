{
 "cells": [
  {
   "cell_type": "code",
   "execution_count": 1,
   "id": "tired-october",
   "metadata": {},
   "outputs": [],
   "source": [
    "import pandas as pd\n",
    "import matplotlib as plt\n",
    "import numpy as np"
   ]
  },
  {
   "cell_type": "code",
   "execution_count": 2,
   "id": "worldwide-marking",
   "metadata": {},
   "outputs": [],
   "source": [
    "filename = \"raw-flight-data.csv\"\n",
    "df=pd.read_csv(filename)"
   ]
  },
  {
   "cell_type": "code",
   "execution_count": 3,
   "id": "prospective-hepatitis",
   "metadata": {},
   "outputs": [
    {
     "data": {
      "text/html": [
       "<div>\n",
       "<style scoped>\n",
       "    .dataframe tbody tr th:only-of-type {\n",
       "        vertical-align: middle;\n",
       "    }\n",
       "\n",
       "    .dataframe tbody tr th {\n",
       "        vertical-align: top;\n",
       "    }\n",
       "\n",
       "    .dataframe thead th {\n",
       "        text-align: right;\n",
       "    }\n",
       "</style>\n",
       "<table border=\"1\" class=\"dataframe\">\n",
       "  <thead>\n",
       "    <tr style=\"text-align: right;\">\n",
       "      <th></th>\n",
       "      <th>DayofMonth</th>\n",
       "      <th>DayOfWeek</th>\n",
       "      <th>Carrier</th>\n",
       "      <th>OriginAirportID</th>\n",
       "      <th>DestAirportID</th>\n",
       "      <th>DepDelay</th>\n",
       "      <th>ArrDelay</th>\n",
       "    </tr>\n",
       "  </thead>\n",
       "  <tbody>\n",
       "    <tr>\n",
       "      <th>0</th>\n",
       "      <td>19</td>\n",
       "      <td>5</td>\n",
       "      <td>DL</td>\n",
       "      <td>11433</td>\n",
       "      <td>13303</td>\n",
       "      <td>-3.0</td>\n",
       "      <td>1.0</td>\n",
       "    </tr>\n",
       "    <tr>\n",
       "      <th>1</th>\n",
       "      <td>19</td>\n",
       "      <td>5</td>\n",
       "      <td>DL</td>\n",
       "      <td>14869</td>\n",
       "      <td>12478</td>\n",
       "      <td>0.0</td>\n",
       "      <td>-8.0</td>\n",
       "    </tr>\n",
       "    <tr>\n",
       "      <th>2</th>\n",
       "      <td>19</td>\n",
       "      <td>5</td>\n",
       "      <td>DL</td>\n",
       "      <td>14057</td>\n",
       "      <td>14869</td>\n",
       "      <td>-4.0</td>\n",
       "      <td>-15.0</td>\n",
       "    </tr>\n",
       "    <tr>\n",
       "      <th>3</th>\n",
       "      <td>19</td>\n",
       "      <td>5</td>\n",
       "      <td>DL</td>\n",
       "      <td>15016</td>\n",
       "      <td>11433</td>\n",
       "      <td>28.0</td>\n",
       "      <td>24.0</td>\n",
       "    </tr>\n",
       "    <tr>\n",
       "      <th>4</th>\n",
       "      <td>19</td>\n",
       "      <td>5</td>\n",
       "      <td>DL</td>\n",
       "      <td>11193</td>\n",
       "      <td>12892</td>\n",
       "      <td>-6.0</td>\n",
       "      <td>-11.0</td>\n",
       "    </tr>\n",
       "    <tr>\n",
       "      <th>5</th>\n",
       "      <td>19</td>\n",
       "      <td>5</td>\n",
       "      <td>DL</td>\n",
       "      <td>10397</td>\n",
       "      <td>15016</td>\n",
       "      <td>-1.0</td>\n",
       "      <td>-19.0</td>\n",
       "    </tr>\n",
       "    <tr>\n",
       "      <th>6</th>\n",
       "      <td>19</td>\n",
       "      <td>5</td>\n",
       "      <td>DL</td>\n",
       "      <td>15016</td>\n",
       "      <td>10397</td>\n",
       "      <td>0.0</td>\n",
       "      <td>-1.0</td>\n",
       "    </tr>\n",
       "    <tr>\n",
       "      <th>7</th>\n",
       "      <td>19</td>\n",
       "      <td>5</td>\n",
       "      <td>DL</td>\n",
       "      <td>10397</td>\n",
       "      <td>14869</td>\n",
       "      <td>15.0</td>\n",
       "      <td>24.0</td>\n",
       "    </tr>\n",
       "    <tr>\n",
       "      <th>8</th>\n",
       "      <td>19</td>\n",
       "      <td>5</td>\n",
       "      <td>DL</td>\n",
       "      <td>10397</td>\n",
       "      <td>10423</td>\n",
       "      <td>33.0</td>\n",
       "      <td>34.0</td>\n",
       "    </tr>\n",
       "    <tr>\n",
       "      <th>9</th>\n",
       "      <td>19</td>\n",
       "      <td>5</td>\n",
       "      <td>DL</td>\n",
       "      <td>11278</td>\n",
       "      <td>10397</td>\n",
       "      <td>323.0</td>\n",
       "      <td>322.0</td>\n",
       "    </tr>\n",
       "  </tbody>\n",
       "</table>\n",
       "</div>"
      ],
      "text/plain": [
       "   DayofMonth  DayOfWeek Carrier  OriginAirportID  DestAirportID  DepDelay  \\\n",
       "0          19          5      DL            11433          13303      -3.0   \n",
       "1          19          5      DL            14869          12478       0.0   \n",
       "2          19          5      DL            14057          14869      -4.0   \n",
       "3          19          5      DL            15016          11433      28.0   \n",
       "4          19          5      DL            11193          12892      -6.0   \n",
       "5          19          5      DL            10397          15016      -1.0   \n",
       "6          19          5      DL            15016          10397       0.0   \n",
       "7          19          5      DL            10397          14869      15.0   \n",
       "8          19          5      DL            10397          10423      33.0   \n",
       "9          19          5      DL            11278          10397     323.0   \n",
       "\n",
       "   ArrDelay  \n",
       "0       1.0  \n",
       "1      -8.0  \n",
       "2     -15.0  \n",
       "3      24.0  \n",
       "4     -11.0  \n",
       "5     -19.0  \n",
       "6      -1.0  \n",
       "7      24.0  \n",
       "8      34.0  \n",
       "9     322.0  "
      ]
     },
     "execution_count": 3,
     "metadata": {},
     "output_type": "execute_result"
    }
   ],
   "source": [
    "df.head(10)"
   ]
  },
  {
   "cell_type": "code",
   "execution_count": 4,
   "id": "ordinary-father",
   "metadata": {},
   "outputs": [
    {
     "name": "stdout",
     "output_type": "stream",
     "text": [
      "<class 'pandas.core.frame.DataFrame'>\n",
      "RangeIndex: 2719418 entries, 0 to 2719417\n",
      "Data columns (total 7 columns):\n",
      " #   Column           Dtype  \n",
      "---  ------           -----  \n",
      " 0   DayofMonth       int64  \n",
      " 1   DayOfWeek        int64  \n",
      " 2   Carrier          object \n",
      " 3   OriginAirportID  int64  \n",
      " 4   DestAirportID    int64  \n",
      " 5   DepDelay         float64\n",
      " 6   ArrDelay         float64\n",
      "dtypes: float64(2), int64(4), object(1)\n",
      "memory usage: 145.2+ MB\n"
     ]
    }
   ],
   "source": [
    "df.info()"
   ]
  },
  {
   "cell_type": "code",
   "execution_count": 5,
   "id": "noted-antigua",
   "metadata": {},
   "outputs": [],
   "source": [
    "import seaborn as sns"
   ]
  },
  {
   "cell_type": "code",
   "execution_count": 6,
   "id": "unauthorized-hydrogen",
   "metadata": {},
   "outputs": [
    {
     "data": {
      "text/plain": [
       "ArrDelay           29033\n",
       "DepDelay           27444\n",
       "DestAirportID          0\n",
       "OriginAirportID        0\n",
       "Carrier                0\n",
       "DayOfWeek              0\n",
       "DayofMonth             0\n",
       "dtype: int64"
      ]
     },
     "execution_count": 6,
     "metadata": {},
     "output_type": "execute_result"
    }
   ],
   "source": [
    "df.isnull().sum().sort_values(ascending=False)"
   ]
  },
  {
   "cell_type": "code",
   "execution_count": 7,
   "id": "traditional-elements",
   "metadata": {},
   "outputs": [
    {
     "data": {
      "text/plain": [
       "<seaborn.axisgrid.FacetGrid at 0x2478576f308>"
      ]
     },
     "execution_count": 7,
     "metadata": {},
     "output_type": "execute_result"
    },
    {
     "data": {
      "image/png": "[encoded data removed]",
      "text/plain": [
       "<Figure size 360x360 with 1 Axes>"
      ]
     },
     "metadata": {
      "needs_background": "light"
     },
     "output_type": "display_data"
    }
   ],
   "source": [
    "sns.displot(df['ArrDelay'])"
   ]
  },
  {
   "cell_type": "code",
   "execution_count": 8,
   "id": "starting-participation",
   "metadata": {},
   "outputs": [
    {
     "data": {
      "text/plain": [
       "<seaborn.axisgrid.FacetGrid at 0x2478c60da48>"
      ]
     },
     "execution_count": 8,
     "metadata": {},
     "output_type": "execute_result"
    },
    {
     "data": {
      "image/png": "[encoded data removed]",
      "text/plain": [
       "<Figure size 360x360 with 1 Axes>"
      ]
     },
     "metadata": {
      "needs_background": "light"
     },
     "output_type": "display_data"
    }
   ],
   "source": [
    "sns.displot(df['DepDelay'])"
   ]
  },
  {
   "cell_type": "code",
   "execution_count": 9,
   "id": "czech-czech",
   "metadata": {},
   "outputs": [
    {
     "data": {
      "text/plain": [
       "22435"
      ]
     },
     "execution_count": 9,
     "metadata": {},
     "output_type": "execute_result"
    }
   ],
   "source": [
    "df.duplicated().sum()"
   ]
  },
  {
   "cell_type": "code",
   "execution_count": 10,
   "id": "headed-assist",
   "metadata": {},
   "outputs": [],
   "source": [
    "df.drop_duplicates(inplace=True)"
   ]
  },
  {
   "cell_type": "code",
   "execution_count": 11,
   "id": "purple-olive",
   "metadata": {},
   "outputs": [
    {
     "data": {
      "text/plain": [
       "0"
      ]
     },
     "execution_count": 11,
     "metadata": {},
     "output_type": "execute_result"
    }
   ],
   "source": [
    "df.duplicated().sum()"
   ]
  },
  {
   "cell_type": "code",
   "execution_count": 12,
   "id": "mighty-attention",
   "metadata": {},
   "outputs": [
    {
     "data": {
      "text/plain": [
       "<seaborn.axisgrid.FacetGrid at 0x2479fdeeec8>"
      ]
     },
     "execution_count": 12,
     "metadata": {},
     "output_type": "execute_result"
    },
    {
     "data": {
      "image/png": "[encoded data removed]",
      "text/plain": [
       "<Figure size 360x360 with 1 Axes>"
      ]
     },
     "metadata": {
      "needs_background": "light"
     },
     "output_type": "display_data"
    }
   ],
   "source": [
    "sns.displot(df['ArrDelay'],kde=True)"
   ]
  },
  {
   "cell_type": "code",
   "execution_count": 13,
   "id": "explicit-baghdad",
   "metadata": {},
   "outputs": [
    {
     "data": {
      "text/plain": [
       "DayofMonth         0.002763\n",
       "DayOfWeek          0.075571\n",
       "OriginAirportID   -0.052750\n",
       "DestAirportID     -0.053339\n",
       "DepDelay           6.740699\n",
       "ArrDelay           5.697472\n",
       "dtype: float64"
      ]
     },
     "execution_count": 13,
     "metadata": {},
     "output_type": "execute_result"
    }
   ],
   "source": [
    "df.skew(axis = 0, skipna = True) "
   ]
  },
  {
   "cell_type": "code",
   "execution_count": 14,
   "id": "chemical-reynolds",
   "metadata": {},
   "outputs": [
    {
     "data": {
      "text/plain": [
       "ArrDelay           23798\n",
       "DepDelay           22209\n",
       "DestAirportID          0\n",
       "OriginAirportID        0\n",
       "Carrier                0\n",
       "DayOfWeek              0\n",
       "DayofMonth             0\n",
       "dtype: int64"
      ]
     },
     "execution_count": 14,
     "metadata": {},
     "output_type": "execute_result"
    }
   ],
   "source": [
    "df.isnull().sum().sort_values(ascending=False)"
   ]
  },
  {
   "cell_type": "code",
   "execution_count": 15,
   "id": "shaped-proceeding",
   "metadata": {},
   "outputs": [],
   "source": [
    "df.dropna(inplace=True)"
   ]
  },
  {
   "cell_type": "code",
   "execution_count": 16,
   "id": "surprised-length",
   "metadata": {},
   "outputs": [
    {
     "name": "stdout",
     "output_type": "stream",
     "text": [
      "<class 'pandas.core.frame.DataFrame'>\n",
      "Int64Index: 2673185 entries, 0 to 2719417\n",
      "Data columns (total 7 columns):\n",
      " #   Column           Dtype  \n",
      "---  ------           -----  \n",
      " 0   DayofMonth       int64  \n",
      " 1   DayOfWeek        int64  \n",
      " 2   Carrier          object \n",
      " 3   OriginAirportID  int64  \n",
      " 4   DestAirportID    int64  \n",
      " 5   DepDelay         float64\n",
      " 6   ArrDelay         float64\n",
      "dtypes: float64(2), int64(4), object(1)\n",
      "memory usage: 163.2+ MB\n"
     ]
    }
   ],
   "source": [
    "df.info()"
   ]
  },
  {
   "cell_type": "code",
   "execution_count": 17,
   "id": "abroad-sessions",
   "metadata": {},
   "outputs": [],
   "source": [
    "df.reset_index(drop=True, inplace=True)"
   ]
  },
  {
   "cell_type": "code",
   "execution_count": 18,
   "id": "creative-aberdeen",
   "metadata": {},
   "outputs": [
    {
     "name": "stdout",
     "output_type": "stream",
     "text": [
      "<class 'pandas.core.frame.DataFrame'>\n",
      "RangeIndex: 2673185 entries, 0 to 2673184\n",
      "Data columns (total 7 columns):\n",
      " #   Column           Dtype  \n",
      "---  ------           -----  \n",
      " 0   DayofMonth       int64  \n",
      " 1   DayOfWeek        int64  \n",
      " 2   Carrier          object \n",
      " 3   OriginAirportID  int64  \n",
      " 4   DestAirportID    int64  \n",
      " 5   DepDelay         float64\n",
      " 6   ArrDelay         float64\n",
      "dtypes: float64(2), int64(4), object(1)\n",
      "memory usage: 142.8+ MB\n"
     ]
    }
   ],
   "source": [
    "df.info()"
   ]
  },
  {
   "cell_type": "code",
   "execution_count": 19,
   "id": "allied-granny",
   "metadata": {},
   "outputs": [
    {
     "data": {
      "text/plain": [
       "ArrDelay           0\n",
       "DepDelay           0\n",
       "DestAirportID      0\n",
       "OriginAirportID    0\n",
       "Carrier            0\n",
       "DayOfWeek          0\n",
       "DayofMonth         0\n",
       "dtype: int64"
      ]
     },
     "execution_count": 19,
     "metadata": {},
     "output_type": "execute_result"
    }
   ],
   "source": [
    "df.isnull().sum().sort_values(ascending=False)"
   ]
  },
  {
   "cell_type": "code",
   "execution_count": 20,
   "id": "friendly-separation",
   "metadata": {},
   "outputs": [
    {
     "name": "stdout",
     "output_type": "stream",
     "text": [
      "Score: 0.8868309523082252\n",
      "MAE: 8.975\n"
     ]
    }
   ],
   "source": [
    "from sklearn.model_selection import train_test_split\n",
    "from sklearn.ensemble import GradientBoostingRegressor\n",
    "from sklearn.metrics import mean_absolute_error\n",
    "\n",
    "X=df[['DayofMonth','DayOfWeek','OriginAirportID',\n",
    "      'DestAirportID','DepDelay']]\n",
    "y=df['ArrDelay']\n",
    "\n",
    "X_train, X_test, y_train, y_test = train_test_split(X, y, random_state=1,\n",
    "                                                   test_size=0.33)\n",
    "\n",
    "clf = GradientBoostingRegressor().fit(X_train, y_train)\n",
    "yhat = clf.predict(X_test)\n",
    "print('Score:',clf.score(X_test, y_test))\n",
    "mae = mean_absolute_error(y_test, yhat)\n",
    "print('MAE: %.3f' % mae)"
   ]
  },
  {
   "cell_type": "code",
   "execution_count": 21,
   "id": "backed-roots",
   "metadata": {
    "scrolled": true
   },
   "outputs": [
    {
     "name": "stdout",
     "output_type": "stream",
     "text": [
      "(1791033, 5) (1791033,)\n",
      "(1772781, 5) (1772781,)\n",
      "MAE: 9.056\n"
     ]
    },
    {
     "data": {
      "text/plain": [
       "0.8850928363502979"
      ]
     },
     "execution_count": 21,
     "metadata": {},
     "output_type": "execute_result"
    }
   ],
   "source": [
    "from sklearn.model_selection import train_test_split\n",
    "from sklearn.linear_model import LinearRegression\n",
    "from sklearn.neighbors import LocalOutlierFactor\n",
    "from sklearn.metrics import mean_absolute_error\n",
    "\n",
    "X=df[['DayofMonth','DayOfWeek','OriginAirportID',\n",
    "      'DestAirportID','DepDelay']]\n",
    "y=df['ArrDelay']\n",
    "\n",
    "X_train, X_test, y_train, y_test = train_test_split(X, y, random_state=1,\n",
    "                                                   test_size=0.33)\n",
    "print(X_train.shape, y_train.shape)\n",
    "\n",
    "lof = LocalOutlierFactor()\n",
    "yhat = lof.fit_predict(X_train)\n",
    "\n",
    "mask = yhat != -1\n",
    "X_train, y_train = X_train[mask], y_train[mask]\n",
    "\n",
    "print(X_train.shape, y_train.shape)\n",
    "\n",
    "# fit the model\n",
    "model = LinearRegression()\n",
    "model.fit(X_train, y_train)\n",
    "# evaluate the model\n",
    "yhat = model.predict(X_test)\n",
    "# evaluate predictions\n",
    "mae = mean_absolute_error(y_test, yhat)\n",
    "print('MAE: %.3f' % mae)\n",
    "model.score(X_test, y_test)"
   ]
  },
  {
   "cell_type": "markdown",
   "id": "tender-carolina",
   "metadata": {},
   "source": [
    "### Remove Outliers"
   ]
  },
  {
   "cell_type": "code",
   "execution_count": 22,
   "id": "vulnerable-channel",
   "metadata": {},
   "outputs": [],
   "source": [
    "from scipy import stats\n",
    "df_1= df[(np.abs(stats.zscore(df[['DayofMonth','DayOfWeek',\n",
    "                                  'OriginAirportID','DestAirportID',\n",
    "                                  'DepDelay',\n",
    "                                  'ArrDelay']])) < 3).all(axis=1)]"
   ]
  },
  {
   "cell_type": "code",
   "execution_count": 23,
   "id": "understanding-state",
   "metadata": {},
   "outputs": [
    {
     "name": "stdout",
     "output_type": "stream",
     "text": [
      "<class 'pandas.core.frame.DataFrame'>\n",
      "Int64Index: 2608612 entries, 0 to 2673184\n",
      "Data columns (total 7 columns):\n",
      " #   Column           Dtype  \n",
      "---  ------           -----  \n",
      " 0   DayofMonth       int64  \n",
      " 1   DayOfWeek        int64  \n",
      " 2   Carrier          object \n",
      " 3   OriginAirportID  int64  \n",
      " 4   DestAirportID    int64  \n",
      " 5   DepDelay         float64\n",
      " 6   ArrDelay         float64\n",
      "dtypes: float64(2), int64(4), object(1)\n",
      "memory usage: 159.2+ MB\n"
     ]
    }
   ],
   "source": [
    "df_1.info()"
   ]
  },
  {
   "cell_type": "code",
   "execution_count": 24,
   "id": "responsible-omega",
   "metadata": {},
   "outputs": [
    {
     "data": {
      "text/plain": [
       "DayofMonth         0.003877\n",
       "DayOfWeek          0.073330\n",
       "OriginAirportID   -0.055177\n",
       "DestAirportID     -0.054327\n",
       "DepDelay           2.647150\n",
       "ArrDelay           1.876742\n",
       "dtype: float64"
      ]
     },
     "execution_count": 24,
     "metadata": {},
     "output_type": "execute_result"
    }
   ],
   "source": [
    "df_1.skew(axis = 0, skipna = True) "
   ]
  },
  {
   "cell_type": "code",
   "execution_count": 25,
   "id": "dying-blair",
   "metadata": {},
   "outputs": [],
   "source": [
    "df_1.reset_index(drop=True, inplace=True)"
   ]
  },
  {
   "cell_type": "code",
   "execution_count": 26,
   "id": "grave-highland",
   "metadata": {},
   "outputs": [
    {
     "name": "stdout",
     "output_type": "stream",
     "text": [
      "<class 'pandas.core.frame.DataFrame'>\n",
      "RangeIndex: 2608612 entries, 0 to 2608611\n",
      "Data columns (total 7 columns):\n",
      " #   Column           Dtype  \n",
      "---  ------           -----  \n",
      " 0   DayofMonth       int64  \n",
      " 1   DayOfWeek        int64  \n",
      " 2   Carrier          object \n",
      " 3   OriginAirportID  int64  \n",
      " 4   DestAirportID    int64  \n",
      " 5   DepDelay         float64\n",
      " 6   ArrDelay         float64\n",
      "dtypes: float64(2), int64(4), object(1)\n",
      "memory usage: 139.3+ MB\n"
     ]
    }
   ],
   "source": [
    "df_1.info()"
   ]
  },
  {
   "cell_type": "code",
   "execution_count": 27,
   "id": "empty-filing",
   "metadata": {},
   "outputs": [
    {
     "name": "stdout",
     "output_type": "stream",
     "text": [
      "Score: 0.7284524083408573\n",
      "MAE: 8.741\n"
     ]
    }
   ],
   "source": [
    "from sklearn.model_selection import train_test_split\n",
    "from sklearn.ensemble import GradientBoostingRegressor\n",
    "from sklearn.metrics import mean_absolute_error\n",
    "\n",
    "X=df_1[['DayofMonth','DayOfWeek','OriginAirportID',\n",
    "      'DestAirportID','DepDelay']]\n",
    "y=df_1['ArrDelay']\n",
    "\n",
    "X_train, X_test, y_train, y_test = train_test_split(X, y, random_state=1,\n",
    "                                                   test_size=0.33)\n",
    "\n",
    "clf = GradientBoostingRegressor().fit(X_train, y_train)\n",
    "yhat = clf.predict(X_test)\n",
    "print('Score:',clf.score(X_test, y_test))\n",
    "mae = mean_absolute_error(y_test, yhat)\n",
    "print('MAE: %.3f' % mae)"
   ]
  },
  {
   "cell_type": "code",
   "execution_count": 28,
   "id": "weighted-recovery",
   "metadata": {},
   "outputs": [
    {
     "name": "stdout",
     "output_type": "stream",
     "text": [
      "Score: 0.7230359520062364\n",
      "MAE: 8.876\n"
     ]
    }
   ],
   "source": [
    "from sklearn.neural_network import MLPRegressor\n",
    "\n",
    "X=df_1[['DayofMonth','DayOfWeek','OriginAirportID',\n",
    "      'DestAirportID','DepDelay']]\n",
    "y=df_1['ArrDelay']\n",
    "\n",
    "X_train, X_test, y_train, y_test = train_test_split(X, y, random_state=1,\n",
    "                                                   test_size=0.33)\n",
    "\n",
    "clf = MLPRegressor().fit(X_train, y_train)\n",
    "yhat = clf.predict(X_test)\n",
    "print('Score:',clf.score(X_test, y_test))\n",
    "mae = mean_absolute_error(y_test, yhat)\n",
    "print('MAE: %.3f' % mae)"
   ]
  },
  {
   "cell_type": "code",
   "execution_count": 29,
   "id": "indian-average",
   "metadata": {},
   "outputs": [
    {
     "name": "stdout",
     "output_type": "stream",
     "text": [
      "DestAirportID1.444 +/- 0.001\n",
      "Carrier 0.001 +/- 0.000\n",
      "OriginAirportID0.000 +/- 0.000\n",
      "DayOfWeek0.000 +/- 0.000\n",
      "DayofMonth0.000 +/- 0.000\n"
     ]
    }
   ],
   "source": [
    "from sklearn.inspection import permutation_importance\n",
    "\n",
    "X=df_1[['DayofMonth','DayOfWeek','OriginAirportID',\n",
    "      'DestAirportID','DepDelay']]\n",
    "y=df_1['ArrDelay']\n",
    "\n",
    "X_train, X_test, y_train, y_test = train_test_split(X, y, random_state=1,\n",
    "                                                   test_size=0.33)\n",
    "\n",
    "r = permutation_importance(clf, X_test, y_test, n_repeats=30,\n",
    "                           random_state=0)\n",
    "\n",
    "for i in r.importances_mean.argsort()[::-1]:\n",
    "    if r.importances_mean[i] - 2 * r.importances_std[i] > 0:\n",
    "        print(f\"{df_1.columns[i]:<8}\"\n",
    "          f\"{r.importances_mean[i]:.3f}\"\n",
    "          f\" +/- {r.importances_std[i]:.3f}\")"
   ]
  },
  {
   "cell_type": "code",
   "execution_count": null,
   "id": "unsigned-livestock",
   "metadata": {},
   "outputs": [],
   "source": []
  }
 ],
 "metadata": {
  "kernelspec": {
   "display_name": "Python 3",
   "language": "python",
   "name": "python3"
  },
  "language_info": {
   "codemirror_mode": {
    "name": "ipython",
    "version": 3
   },
   "file_extension": ".py",
   "mimetype": "text/x-python",
   "name": "python",
   "nbconvert_exporter": "python",
   "pygments_lexer": "ipython3",
   "version": "3.7.9"
  }
 },
 "nbformat": 4,
 "nbformat_minor": 5
}
